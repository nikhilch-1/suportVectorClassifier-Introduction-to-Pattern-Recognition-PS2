{
 "cells": [
  {
   "cell_type": "markdown",
   "metadata": {},
   "source": [
    "# Name: Nikhil Chakravarthy Chakkirala\n",
    "# UBIT: nchakkir"
   ]
  },
  {
   "cell_type": "markdown",
   "metadata": {},
   "source": [
    "# 1."
   ]
  },
  {
   "cell_type": "code",
   "execution_count": 1,
   "metadata": {},
   "outputs": [
    {
     "name": "stderr",
     "output_type": "stream",
     "text": [
      "Using TensorFlow backend.\n"
     ]
    }
   ],
   "source": [
    "# Standard scientific Python imports\n",
    "import matplotlib.pyplot as plt\n",
    "import numpy as np\n",
    "import pandas as pd\n",
    "import keras\n",
    "import tensorflow as tf\n",
    "from keras.datasets import mnist\n"
   ]
  },
  {
   "cell_type": "code",
   "execution_count": 2,
   "metadata": {},
   "outputs": [],
   "source": [
    "# Import datasets, classifiers and performance metrics\n",
    "from sklearn import datasets, svm, metrics\n",
    "\n",
    "# Importing the dataset from keras\n",
    "(data_train, label_train),(data_test, label_test)=tf.keras.datasets.mnist.load_data()"
   ]
  },
  {
   "cell_type": "code",
   "execution_count": 3,
   "metadata": {},
   "outputs": [
    {
     "name": "stdout",
     "output_type": "stream",
     "text": [
      "(60000, 28, 28)\n",
      "[5 0 4 ... 5 6 8]\n"
     ]
    }
   ],
   "source": [
    "data_train[data_train>0]=1\n",
    "data_test[data_test>0]=1\n",
    "\n",
    "print(data_train.shape)\n",
    "print(label_train)"
   ]
  },
  {
   "cell_type": "code",
   "execution_count": 4,
   "metadata": {},
   "outputs": [
    {
     "data": {
      "text/plain": [
       "(10000, 784)"
      ]
     },
     "execution_count": 4,
     "metadata": {},
     "output_type": "execute_result"
    }
   ],
   "source": [
    "td=[]\n",
    "for x in data_train:\n",
    "    td.append(np.array(x).flatten())\n",
    "data_train=np.array(td)\n",
    "\n",
    "tf=[]\n",
    "for x in data_test:\n",
    "    tf.append(np.array(x).flatten())\n",
    "data_test=np.array(tf)\n",
    "data_test.shape"
   ]
  },
  {
   "cell_type": "code",
   "execution_count": 5,
   "metadata": {},
   "outputs": [
    {
     "name": "stderr",
     "output_type": "stream",
     "text": [
      "/home/nikhil/Downloads/Anaconda/envs/tensorflow_cpu/lib/python3.6/site-packages/sklearn/svm/base.py:929: ConvergenceWarning: Liblinear failed to converge, increase the number of iterations.\n",
      "  \"the number of iterations.\", ConvergenceWarning)\n"
     ]
    },
    {
     "name": "stdout",
     "output_type": "stream",
     "text": [
      "Confusion matrix for C=1:\n",
      "[[ 957    0    1    1    0   11    5    1    3    1]\n",
      " [   0 1109    5    1    0    2    5    0   13    0]\n",
      " [  11    6  883   31   13    4   15   14   51    4]\n",
      " [   4    0   18  908    1   22    5   11   31   10]\n",
      " [   2    2    5    1  905    0   11    4   10   42]\n",
      " [   8    4    5   35   13  761   18    8   35    5]\n",
      " [  11    2    8    2    7   15  905    0    7    1]\n",
      " [   2    9   19    9   11    2    1  934    6   35]\n",
      " [   8    7    8   22   15   16   11    4  870   13]\n",
      " [   9    8    4   17   39    8    0   24   12  888]]\n",
      "Accuracy for C=1:  0.912\n"
     ]
    },
    {
     "name": "stderr",
     "output_type": "stream",
     "text": [
      "/home/nikhil/Downloads/Anaconda/envs/tensorflow_cpu/lib/python3.6/site-packages/sklearn/svm/base.py:929: ConvergenceWarning: Liblinear failed to converge, increase the number of iterations.\n",
      "  \"the number of iterations.\", ConvergenceWarning)\n"
     ]
    },
    {
     "name": "stdout",
     "output_type": "stream",
     "text": [
      "Confusion matrix for C=2:\n",
      "[[ 960    0    1    2    0    9    3    2    2    1]\n",
      " [   0 1106    6    1    1    2    6    0   13    0]\n",
      " [  12    6  892   28   12    3   16   14   45    4]\n",
      " [   3    0   16  913    4   17    4   11   33    9]\n",
      " [   2    2    5    0  914    0    8    5    8   38]\n",
      " [  10    5    5   48   17  724   22    8   47    6]\n",
      " [  15    2    7    1    9   12  905    0    7    0]\n",
      " [   1    8   20    8   12    2    1  941    4   31]\n",
      " [  11    7    8   24   14   12   10    6  871   11]\n",
      " [   9    8    5   16   46    7    0   29   12  877]]\n",
      "Accuracy for C=2:  0.9103\n"
     ]
    },
    {
     "name": "stderr",
     "output_type": "stream",
     "text": [
      "/home/nikhil/Downloads/Anaconda/envs/tensorflow_cpu/lib/python3.6/site-packages/sklearn/svm/base.py:929: ConvergenceWarning: Liblinear failed to converge, increase the number of iterations.\n",
      "  \"the number of iterations.\", ConvergenceWarning)\n"
     ]
    },
    {
     "name": "stdout",
     "output_type": "stream",
     "text": [
      "Confusion matrix for C=3:\n",
      "[[ 946    0    3    2    0    9    8    3    4    5]\n",
      " [   0 1110    5    1    1    2    5    0   11    0]\n",
      " [   9   11  877   29   13    3   16   16   52    6]\n",
      " [   2    1    9  909    3   22    5   16   30   13]\n",
      " [   1    2    4    0  893    0    9    7    7   59]\n",
      " [   6    5    3   41   17  749   22   11   27   11]\n",
      " [   9    2    8    1   10   17  903    0    5    3]\n",
      " [   1   10   13    7   14    1    1  936    6   39]\n",
      " [  10    7    5   23   17   23   10    9  841   29]\n",
      " [   7    7    5   14   33    6    0   23    7  907]]\n",
      "Accuracy for C=3:  0.9071\n"
     ]
    },
    {
     "name": "stderr",
     "output_type": "stream",
     "text": [
      "/home/nikhil/Downloads/Anaconda/envs/tensorflow_cpu/lib/python3.6/site-packages/sklearn/svm/base.py:929: ConvergenceWarning: Liblinear failed to converge, increase the number of iterations.\n",
      "  \"the number of iterations.\", ConvergenceWarning)\n"
     ]
    },
    {
     "name": "stdout",
     "output_type": "stream",
     "text": [
      "Confusion matrix for C=4:\n",
      "[[ 959    0    1    2    0    8    3    1    3    3]\n",
      " [   0 1116    5    1    0    2    5    0    6    0]\n",
      " [  10   13  912   24    9    3   16   11   30    4]\n",
      " [   3    1   27  893    1   28    5   12   26   14]\n",
      " [   2    4    9    2  889    0    9    6    9   52]\n",
      " [  10    5    9   29   12  772   19    8   22    6]\n",
      " [  13    3    8    2    7   27  891    0    5    2]\n",
      " [   4   10   23    8    9    3    1  925    5   40]\n",
      " [  10   14   11   20   13   30   10    6  827   33]\n",
      " [   9    9    7   17   23    7    0   23    8  906]]\n",
      "Accuracy for C=4:  0.909\n"
     ]
    },
    {
     "name": "stderr",
     "output_type": "stream",
     "text": [
      "/home/nikhil/Downloads/Anaconda/envs/tensorflow_cpu/lib/python3.6/site-packages/sklearn/svm/base.py:929: ConvergenceWarning: Liblinear failed to converge, increase the number of iterations.\n",
      "  \"the number of iterations.\", ConvergenceWarning)\n"
     ]
    },
    {
     "name": "stdout",
     "output_type": "stream",
     "text": [
      "Confusion matrix for C=5:\n",
      "[[ 958    0    2    2    5    6    2    1    2    2]\n",
      " [   0 1109    6    1    1    3    4    0   11    0]\n",
      " [  15    8  876   20   16    1   13   14   66    3]\n",
      " [  10    3   23  875    7   22    3   12   49    6]\n",
      " [   1    4    5    0  923    0    7    2    9   31]\n",
      " [  14    5    5   37   27  716   14    7   61    6]\n",
      " [  17    4   10    2   17   20  878    0   10    0]\n",
      " [   5    9   22    6   20    0    1  924    7   34]\n",
      " [  12    6    7   13   20   10    6    6  886    8]\n",
      " [   8   10    6   13   59    5    0   29   19  860]]\n",
      "Accuracy for C=5:  0.9005\n"
     ]
    },
    {
     "name": "stderr",
     "output_type": "stream",
     "text": [
      "/home/nikhil/Downloads/Anaconda/envs/tensorflow_cpu/lib/python3.6/site-packages/sklearn/svm/base.py:929: ConvergenceWarning: Liblinear failed to converge, increase the number of iterations.\n",
      "  \"the number of iterations.\", ConvergenceWarning)\n"
     ]
    },
    {
     "name": "stdout",
     "output_type": "stream",
     "text": [
      "Confusion matrix for C=6:\n",
      "[[ 955    0    4    2    0    5    5    2    5    2]\n",
      " [   0 1113    5    1    0    1    5    0   10    0]\n",
      " [   8    9  899   22   10    1   20   14   44    5]\n",
      " [   2    1   38  878    1   11    6   13   51    9]\n",
      " [   2    3   14    8  831    0   25    6   22   71]\n",
      " [  13    7   15   47    4  698   23    8   69    8]\n",
      " [  11    3   12    1    3    9  913    0    5    1]\n",
      " [   4   11   20   10    8    2    1  928    8   36]\n",
      " [  10    8   12   15    8    8   13    3  885   12]\n",
      " [   8    7    7   14   14    6    0   25   25  903]]\n",
      "Accuracy for C=6:  0.9003\n"
     ]
    },
    {
     "name": "stderr",
     "output_type": "stream",
     "text": [
      "/home/nikhil/Downloads/Anaconda/envs/tensorflow_cpu/lib/python3.6/site-packages/sklearn/svm/base.py:929: ConvergenceWarning: Liblinear failed to converge, increase the number of iterations.\n",
      "  \"the number of iterations.\", ConvergenceWarning)\n"
     ]
    },
    {
     "name": "stdout",
     "output_type": "stream",
     "text": [
      "Confusion matrix for C=7:\n",
      "[[ 959    0    0    1    1    3    7    2    5    2]\n",
      " [   0 1112    5    1    0    1    6    0   10    0]\n",
      " [  13   10  889   28   10    1   15   13   50    3]\n",
      " [   3    1   26  892    4   11    7   14   42   10]\n",
      " [   2    7    7    2  923    0    7    2   10   22]\n",
      " [  19    6   14   48   26  661   29   10   72    7]\n",
      " [  15    3    8    1    9    9  907    0    6    0]\n",
      " [   4   11   24    3   15    2    1  936    7   25]\n",
      " [   9   13   12   16   17    4   11    5  882    5]\n",
      " [  12    9    6   16   75    5    0   47   27  812]]\n",
      "Accuracy for C=7:  0.8973\n"
     ]
    },
    {
     "name": "stderr",
     "output_type": "stream",
     "text": [
      "/home/nikhil/Downloads/Anaconda/envs/tensorflow_cpu/lib/python3.6/site-packages/sklearn/svm/base.py:929: ConvergenceWarning: Liblinear failed to converge, increase the number of iterations.\n",
      "  \"the number of iterations.\", ConvergenceWarning)\n"
     ]
    },
    {
     "name": "stdout",
     "output_type": "stream",
     "text": [
      "Confusion matrix for C=8:\n",
      "[[ 927    1   11   15    0   14    6    1    4    1]\n",
      " [   0 1117    6    3    0    2    4    0    3    0]\n",
      " [   5   16  886   54    9    5   14   12   27    4]\n",
      " [   1    0   10  964    1    9    3    7    6    9]\n",
      " [   0    7   11   10  873    5    7    3    7   59]\n",
      " [   3    5   10   93    9  737   12    7    9    7]\n",
      " [   9    5   12    7   10   32  883    0    0    0]\n",
      " [   0   11   17   23    9    5    1  917    5   40]\n",
      " [   7   22   14  143   15   66    5    4  670   28]\n",
      " [   6   11   11   34   27   11    0   20    3  886]]\n",
      "Accuracy for C=8:  0.886\n",
      "Confusion matrix for C=9:\n",
      "[[ 957    0   12    1    1    4    1    2    1    1]\n",
      " [   0 1105   13    0    0    3    5    0    9    0]\n",
      " [  12    5  957    4    7    5   12    9   18    3]\n",
      " [  32    2  109  733    1   76    5   13   31    8]\n",
      " [   2    5   34    1  874    3   12    9    9   33]\n",
      " [  15    6   26    8    8  790   11    8   17    3]\n",
      " [  17    2   24    0   10   27  872    0    6    0]\n",
      " [   4    8   47    5   14    2    0  923    5   20]\n",
      " [  19   10   62    7   12   45    7   13  787   12]\n",
      " [  12    9   30   10   36   14    0   50   13  835]]\n",
      "Accuracy for C=9:  0.8833\n"
     ]
    },
    {
     "name": "stderr",
     "output_type": "stream",
     "text": [
      "/home/nikhil/Downloads/Anaconda/envs/tensorflow_cpu/lib/python3.6/site-packages/sklearn/svm/base.py:929: ConvergenceWarning: Liblinear failed to converge, increase the number of iterations.\n",
      "  \"the number of iterations.\", ConvergenceWarning)\n"
     ]
    }
   ],
   "source": [
    "# Create a classifier: a support vector classifier\n",
    "for i in range(1,10):\n",
    "    classifier = svm.LinearSVC(C=i)\n",
    "    # We learn the digits on the first half of the digits\n",
    "    classifier.fit(data_train, label_train)\n",
    "    # Now predict the value of the digit on the second half:\n",
    "    #expected = label_testeeeee\n",
    "    predicted = classifier.predict(data_test)\n",
    "    print(\"Confusion matrix for C=\"+str(i)+\":\\n%s\" % metrics.confusion_matrix(label_test,predicted))    \n",
    "    print(\"Accuracy for C=\"+str(i)+\": \",metrics.accuracy_score(label_test,predicted))  "
   ]
  },
  {
   "attachments": {
    "CodeCogsEqn%20%2810%29.gif": {
     "image/gif": "[encoded data removed]"
    },
    "CodeCogsEqn%20%2811%29.gif": {
     "image/gif": "[encoded data removed]"
    },
    "CodeCogsEqn%20%2812%29.gif": {
     "image/gif": "[encoded data removed]"
    },
    "CodeCogsEqn%20%2813%29.gif": {
     "image/gif": "[encoded data removed]"
    },
    "CodeCogsEqn%20%2814%29.gif": {
     "image/gif": "[encoded data removed]"
    },
    "CodeCogsEqn%20%2815%29.gif": {
     "image/gif": "[encoded data removed]"
    },
    "CodeCogsEqn%20%2816%29.gif": {
     "image/gif": "[encoded data removed]"
    },
    "CodeCogsEqn%20%2818%29.gif": {
     "image/gif": "[encoded data removed]"
    },
    "CodeCogsEqn%20%2819%29.gif": {
     "image/gif": "[encoded data removed]"
    },
    "CodeCogsEqn%20%2820%29.gif": {
     "image/gif": "[encoded data removed]"
    },
    "CodeCogsEqn%20%2821%29.gif": {
     "image/gif": "[encoded data removed]"
    },
    "CodeCogsEqn%20%2822%29.gif": {
     "image/gif": "[encoded data removed]"
    },
    "CodeCogsEqn%20%2824%29.gif": {
     "image/gif": "[encoded data removed]"
    },
    "CodeCogsEqn%20%2825%29.gif": {
     "image/gif": "[encoded data removed]"
    },
    "CodeCogsEqn%20%286%29.gif": {
     "image/gif": "[encoded data removed]"
    },
    "CodeCogsEqn%20%287%29.gif": {
     "image/gif": "[encoded data removed]"
    },
    "CodeCogsEqn%20%288%29.gif": {
     "image/gif": "[encoded data removed]"
    },
    "CodeCogsEqn%20%289%29.gif": {
     "image/gif": "[encoded data removed]"
    }
   },
   "cell_type": "markdown",
   "metadata": {},
   "source": [
    "# 2.\n",
    "Given features: (x1,y1)...(xN,yN) where y1,...,yN lie in the range {-1,1}\n",
    "\n",
    "\n",
    "To minimize: ![CodeCogsEqn%20%286%29.gif](attachment:CodeCogsEqn%20%286%29.gif)\n",
    "\n",
    "\n",
    "subject to ![CodeCogsEqn%20%287%29.gif](attachment:CodeCogsEqn%20%287%29.gif)\n",
    "for i=1,2,...,N\n",
    "\n",
    "Using method of Lagrange Multipliers, we have\n",
    "    Loss function ![CodeCogsEqn%20%288%29.gif](attachment:CodeCogsEqn%20%288%29.gif)---> Equation1 \n",
    "    \n",
    "In this equation, the unknowns are:\n",
    "![CodeCogsEqn%20%2810%29.gif](attachment:CodeCogsEqn%20%2810%29.gif)-->Unknown1\n",
    "![CodeCogsEqn%20%289%29.gif](attachment:CodeCogsEqn%20%289%29.gif)-->Unknown2\n",
    "\n",
    "Therefore, differentiating Equation1 with respect to unknown1 and equating to 0, we get\n",
    "![CodeCogsEqn%20%2811%29.gif](attachment:CodeCogsEqn%20%2811%29.gif)\n",
    "![CodeCogsEqn%20%2812%29.gif](attachment:CodeCogsEqn%20%2812%29.gif)\n",
    "![CodeCogsEqn%20%2813%29.gif](attachment:CodeCogsEqn%20%2813%29.gif)--->Equation2\n",
    "\n",
    "Now, differentiating Equation1 with respect to unknown2 and equating to 0, we get\n",
    "![CodeCogsEqn%20%2814%29.gif](attachment:CodeCogsEqn%20%2814%29.gif)\n",
    "![CodeCogsEqn%20%2815%29.gif](attachment:CodeCogsEqn%20%2815%29.gif)\n",
    "![CodeCogsEqn%20%2816%29.gif](attachment:CodeCogsEqn%20%2816%29.gif)\n",
    "--->Equation3\n",
    "\n",
    "\n",
    "Therefore, Substituting Equation2 and Equation3 in Equation1, we get\n",
    "\n",
    "![CodeCogsEqn%20%2818%29.gif](attachment:CodeCogsEqn%20%2818%29.gif)\n",
    "--->\n",
    "\n",
    "\n",
    "![CodeCogsEqn%20%2819%29.gif](attachment:CodeCogsEqn%20%2819%29.gif)\n",
    "--->\n",
    "\n",
    "\n",
    "\n",
    "![CodeCogsEqn%20%2820%29.gif](attachment:CodeCogsEqn%20%2820%29.gif)\n",
    "--->\n",
    "\n",
    "\n",
    "\n",
    "![CodeCogsEqn%20%2821%29.gif](attachment:CodeCogsEqn%20%2821%29.gif)\n",
    "--->\n",
    "\n",
    "\n",
    "\n",
    "![CodeCogsEqn%20%2822%29.gif](attachment:CodeCogsEqn%20%2822%29.gif)\n",
    "--->\n",
    "\n",
    "\n",
    "\n",
    "\n",
    "\n",
    "Margin in Primal formulation: \n",
    "\n",
    "![CodeCogsEqn%20%2825%29.gif](attachment:CodeCogsEqn%20%2825%29.gif)\n",
    "\n",
    "\n",
    "\n",
    "\n",
    "Margin in Dual formulation:\n",
    "![CodeCogsEqn%20%2824%29.gif](attachment:CodeCogsEqn%20%2824%29.gif)"
   ]
  },
  {
   "attachments": {
    "CodeCogsEqn%20%281%29.gif": {
     "image/gif": "[encoded data removed]"
    },
    "CodeCogsEqn%20%282%29.gif": {
     "image/gif": "[encoded data removed]"
    },
    "CodeCogsEqn%20%283%29.gif": {
     "image/gif": "[encoded data removed]"
    },
    "CodeCogsEqn%20%284%29.gif": {
     "image/gif": "[encoded data removed]"
    },
    "CodeCogsEqn%20%285%29.gif": {
     "image/gif": "[encoded data removed]"
    },
    "CodeCogsEqn.gif": {
     "image/gif": "[encoded data removed]"
    }
   },
   "cell_type": "markdown",
   "metadata": {},
   "source": [
    "# Benefits of maximizing the margin are:\n",
    "\n",
    "1. More generalized models can be created.\n",
    "2. Overfitting can be prevented since large margin regularizes the SVM weights.\n",
    "3. A classifier with large margin makes low uncertainity in classification.\n",
    "\n",
    "# Support Vectors:\n",
    "1. In linear separable case, data points on the boundary of hyperlplane are support vectors.\n",
    "2. In non-linear separable case, data points which are wrongly classified are considered as support vectors.\n",
    "\n",
    "# SVM Primal vs Dual:\n",
    "\n",
    "# Primal:\n",
    "1. ![CodeCogsEqn.gif](attachment:CodeCogsEqn.gif) \n",
    "\n",
    "with ![CodeCogsEqn%20%281%29.gif](attachment:CodeCogsEqn%20%281%29.gif) \n",
    "and ![CodeCogsEqn%20%282%29.gif](attachment:CodeCogsEqn%20%282%29.gif) for i=1,...,N\n",
    "\n",
    "\n",
    "2. d+n+1 unknowns\n",
    "3. Approximately 2n constraints\n",
    "4. It is a classical QP.\n",
    "5. To be used when n is too large.\n",
    "\n",
    "# Dual:\n",
    "1. ![CodeCogsEqn%20%283%29.gif](attachment:CodeCogsEqn%20%283%29.gif)\n",
    "\n",
    "with ![CodeCogsEqn%20%284%29.gif](attachment:CodeCogsEqn%20%284%29.gif)\n",
    "and ![CodeCogsEqn%20%285%29.gif](attachment:CodeCogsEqn%20%285%29.gif) for i=1,...,N\n",
    "\n",
    "\n",
    "2. n unknowns\n",
    "3. Has a G gram matrix\n",
    "4. 2n box constraints\n",
    "5. Easy to solve.\n",
    "6. To be used when n is not too large.\n",
    "\n",
    "# Benefit of solving dual problem instead of primal is that dual problem is easier to solve and represent because it has less number of constraints."
   ]
  },
  {
   "cell_type": "markdown",
   "metadata": {},
   "source": [
    "# References:\n",
    "https://monkeylearn.com/blog/introduction-to-support-vector-machines-svm/\n",
    "https://towardsdatascience.com/support-vector-machine-introduction-to-machine-learning-algorithms-934a444fca47\n",
    "https://scikit-learn.org/stable/modules/svm.html\n",
    "https://scikit-learn.org/stable/modules/generated/sklearn.svm.SVC.html\n",
    "https://towardsdatascience.com/support-vector-machine-mnist-digit-classification-with-python-including-my-hand-written-digits-83d6eca7004a\n",
    "https://www.khanacademy.org/math/multivariable-calculus/applications-of-multivariable-derivatives/constrained-optimization/a/lagrange-multipliers-examples\n",
    "http://tutorial.math.lamar.edu/Classes/CalcIII/LagrangeMultipliers.aspx\n",
    "https://www.youtube.com/watch?v=ry9cgNx1QV8\n",
    "https://math.stackexchange.com/questions/243706/what-are-the-advantages-of-dual-of-a-problem\n"
   ]
  }
 ],
 "metadata": {
  "kernelspec": {
   "display_name": "Python 3",
   "language": "python",
   "name": "python3"
  },
  "language_info": {
   "codemirror_mode": {
    "name": "ipython",
    "version": 3
   },
   "file_extension": ".py",
   "mimetype": "text/x-python",
   "name": "python",
   "nbconvert_exporter": "python",
   "pygments_lexer": "ipython3",
   "version": "3.6.5"
  }
 },
 "nbformat": 4,
 "nbformat_minor": 2
}
